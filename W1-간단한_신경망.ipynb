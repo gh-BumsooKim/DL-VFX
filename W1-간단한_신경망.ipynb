{
 "cells": [
  {
   "cell_type": "markdown",
   "metadata": {},
   "source": [
    "# 2장 파이토치로 만드는 첫 번째 신경망 - 간단한 신경망 (p50 - p58)"
   ]
  },
  {
   "cell_type": "markdown",
   "metadata": {},
   "source": [
    "### 중앙대학교 첨단영상대학원 영상학과 - 딥러닝 시각효과"
   ]
  },
  {
   "cell_type": "markdown",
   "metadata": {},
   "source": [
    "<img align=\"right\" style=\"padding-right:150px\" src=\"http://image.kyobobook.co.kr/images/book/large/954/l9791162243954.jpg\">\n",
    "\n",
    "<p style=\"text-align: center\">\n",
    "<ul>\n",
    "    <li>중앙대학교 예술공학대학 컴퓨터예술학부 김범수</li>\n",
    "    <ul>\n",
    "        <li>지도 교수 : 서상현 교수님</li>\n",
    "        <li>연구 관심 분야 : Mixed Reality, Deep Learning</li>\n",
    "        <li>GAN 경험 : X </li>\n",
    "    </ul><br>\n",
    "    <li>참고도서 : GAN 첫걸음</li><br>\n",
    "    <li>개발 환경 (로컬 PC)</li>\n",
    "    <ul>\n",
    "        <li>Ubuntu 20.04</li>\n",
    "        <li>Python 3.6.5</li>\n",
    "        <li>CUDA 10.1</li>\n",
    "        <li>cuDNN 7.6.5</li>\n",
    "        <li>GeForce RTX 2060 SUPER 8GB</li>\n",
    "    </ul>\n",
    "</ul>\n",
    "</p>"
   ]
  },
  {
   "cell_type": "code",
   "execution_count": 1,
   "metadata": {},
   "outputs": [],
   "source": [
    "import torch\n",
    "import torch.nn as nn"
   ]
  },
  {
   "cell_type": "code",
   "execution_count": 2,
   "metadata": {},
   "outputs": [
    {
     "data": {
      "text/plain": [
       "'1.8.0+cu101'"
      ]
     },
     "execution_count": 2,
     "metadata": {},
     "output_type": "execute_result"
    }
   ],
   "source": [
    "torch.__version__"
   ]
  },
  {
   "cell_type": "markdown",
   "metadata": {},
   "source": [
    "```cmd\n",
    "Looking in links: https://download.pytorch.org/whl/torch_stable.html\n",
    "Collecting torch==1.8.0+cu101\n",
    "  Downloading https://download.pytorch.org/whl/cu101/torch-1.8.0%2Bcu101-cp36-cp36m-win_amd64.whl (1306.5 MB)\n",
    "     |████████████████████████████████| 1306.5 MB 3.0 kB/s\n",
    "Collecting torchvision==0.9.0+cu101\n",
    "  Downloading https://download.pytorch.org/whl/cu101/torchvision-0.9.0%2Bcu101-cp36-cp36m-win_amd64.whl (1.6 MB)\n",
    "     |████████████████████████████████| 1.6 MB 172 kB/s\n",
    "Collecting torchaudio===0.8.0\n",
    "  Downloading https://download.pytorch.org/whl/torchaudio-0.8.0-cp36-none-win_amd64.whl (109 kB)\n",
    "     |████████████████████████████████| 109 kB ...\n",
    "Collecting typing-extensions\n",
    "  Using cached typing_extensions-3.7.4.3-py3-none-any.whl (22 kB)\n",
    "Collecting numpy\n",
    "  Using cached numpy-1.19.5-cp36-cp36m-win_amd64.whl (13.2 MB)\n",
    "Collecting dataclasses\n",
    "  Using cached dataclasses-0.8-py3-none-any.whl (19 kB)\n",
    "Collecting pillow>=4.1.1\n",
    "  Downloading Pillow-8.1.2-cp36-cp36m-win_amd64.whl (2.1 MB)\n",
    "     |████████████████████████████████| 2.1 MB 2.2 MB/s\n",
    "Installing collected packages: typing-extensions, numpy, dataclasses, torch, pillow, torchvision, torchaudio\n",
    "Successfully installed dataclasses-0.8 numpy-1.19.5 pillow-8.1.2 torch-1.8.0+cu101 torchaudio-0.8.0 torchvision-0.9.0+cu101 typing-extensions-3.7.4.3\n",
    "```"
   ]
  },
  {
   "cell_type": "markdown",
   "metadata": {},
   "source": [
    "* numpy : 수치 연산 라이브러리 / Broadcasting - dimensions prepending, element-wise operation\n",
    "* dataclasses\n",
    "* pillow\n",
    "* torchvision\n",
    "* torchaudio"
   ]
  },
  {
   "cell_type": "markdown",
   "metadata": {},
   "source": [
    "### - GPU 연결 확인"
   ]
  },
  {
   "cell_type": "markdown",
   "metadata": {},
   "source": [
    "* GPU 개수"
   ]
  },
  {
   "cell_type": "code",
   "execution_count": 3,
   "metadata": {
    "scrolled": true
   },
   "outputs": [
    {
     "data": {
      "text/plain": [
       "1"
      ]
     },
     "execution_count": 3,
     "metadata": {},
     "output_type": "execute_result"
    }
   ],
   "source": [
    "torch.cuda.device_count()"
   ]
  },
  {
   "cell_type": "markdown",
   "metadata": {},
   "source": [
    "* GPU 이름"
   ]
  },
  {
   "cell_type": "code",
   "execution_count": 4,
   "metadata": {},
   "outputs": [
    {
     "data": {
      "text/plain": [
       "'GeForce RTX 2060 SUPER'"
      ]
     },
     "execution_count": 4,
     "metadata": {},
     "output_type": "execute_result"
    }
   ],
   "source": [
    "torch.cuda.get_device_name(0)"
   ]
  },
  {
   "cell_type": "markdown",
   "metadata": {},
   "source": [
    "* GPU 사용 가능 여부"
   ]
  },
  {
   "cell_type": "code",
   "execution_count": 5,
   "metadata": {},
   "outputs": [
    {
     "data": {
      "text/plain": [
       "True"
      ]
     },
     "execution_count": 5,
     "metadata": {},
     "output_type": "execute_result"
    }
   ],
   "source": [
    "torch.cuda.is_available()"
   ]
  },
  {
   "cell_type": "markdown",
   "metadata": {},
   "source": [
    "* GPU 연결 확인"
   ]
  },
  {
   "cell_type": "code",
   "execution_count": 6,
   "metadata": {},
   "outputs": [
    {
     "name": "stdout",
     "output_type": "stream",
     "text": [
      "0 GeForce RTX 2060 SUPER\n"
     ]
    }
   ],
   "source": [
    "if torch.cuda.is_available():\n",
    "    for i in range(torch.cuda.device_count()):\n",
    "        print(i, torch.cuda.get_device_name(i))"
   ]
  },
  {
   "cell_type": "code",
   "execution_count": 7,
   "metadata": {},
   "outputs": [],
   "source": [
    "class Classifier(nn.Module):\n",
    "    def __init__(self):\n",
    "        super().__init__()\n",
    "        \n",
    "        self.model = nn.Sequential(\n",
    "            nn.Linear(784, 200),\n",
    "            nn.Sigmoid(),\n",
    "            nn.Linear(200,10),\n",
    "            nn.Sigmoid()\n",
    "        )\n",
    "        \n",
    "        self.loss_function = nn.MSELoss() # Mean Squre Error\n",
    "        self.optimiser = torch.optim.SGD(self.parameters(), lr=0.01) # Learning Rate\n",
    "        \n",
    "    def forward(self, inputs):\n",
    "        return self.model(inputs)\n",
    "    \n",
    "    def train(self, inputs, targets):\n",
    "        outputs = self.forward(inputs)\n",
    "        loss = self.loss_function(outputs, targets)\n",
    "        \n",
    "        self.optimiser.zero_grad()\n",
    "        loss.backward()\n",
    "        self.optimiser.step()       "
   ]
  },
  {
   "cell_type": "markdown",
   "metadata": {},
   "source": [
    "<img align=\"right\" src=\"https://mlnotebook.github.io/img/transferFunctions/sigmoid.png\" width=50%>\n",
    "\n",
    "#### nn.Sigmoid()\n",
    "\n",
    "* Gradient Vanishing Problem\n",
    "* Squash Problem\n",
    "* 복잡한 지수 함수 계산\n",
    "\n"
   ]
  },
  {
   "cell_type": "markdown",
   "metadata": {},
   "source": [
    "<img align=\"right\" style=\"padding-right:30px\" src=\"https://discuss.pytorch.org/uploads/default/original/1X/7e3dfc25dd2eda83d45adcd3d3d6d10f6c5636c3.png\">\n",
    "\n",
    "#### nn.Linear() \n",
    "\n",
    "* Fully Connected Layer\n",
    "* Dense\n",
    "* initialization based on input_feature"
   ]
  },
  {
   "cell_type": "code",
   "execution_count": 8,
   "metadata": {},
   "outputs": [
    {
     "name": "stdout",
     "output_type": "stream",
     "text": [
      "[Parameter containing:\n",
      "tensor([[-0.0266,  0.0618, -0.0363,  ..., -0.0520,  0.0035,  0.0149],\n",
      "        [-0.0205,  0.0045, -0.0525,  ...,  0.0553, -0.0479, -0.0606],\n",
      "        [ 0.0623,  0.0004, -0.0055,  ...,  0.0377, -0.0525, -0.0389],\n",
      "        ...,\n",
      "        [-0.0696, -0.0053,  0.0698,  ...,  0.0470,  0.0240, -0.0322],\n",
      "        [ 0.0680, -0.0100, -0.0454,  ..., -0.0554,  0.0512, -0.0042],\n",
      "        [ 0.0692, -0.0457, -0.0526,  ..., -0.0604,  0.0262,  0.0621]],\n",
      "       requires_grad=True), Parameter containing:\n",
      "tensor([ 0.0029, -0.0003,  0.0679,  0.0634,  0.0486, -0.0207, -0.0157, -0.0585,\n",
      "        -0.0339,  0.0489], requires_grad=True)]\n"
     ]
    }
   ],
   "source": [
    "print(list(nn.Linear(200,10).parameters()))"
   ]
  },
  {
   "cell_type": "markdown",
   "metadata": {},
   "source": [
    "**- Linear Source Code** ([https://pytorch.org/docs/stable/_modules/torch/nn/modules/linear.html#Linear](https://pytorch.org/docs/stable/_modules/torch/nn/modules/linear.html#Linear))\n",
    "\n",
    "```python\n",
    "class Linear(Module):\n",
    "    def __init__(self, in_features: int, out_features: int, bias: bool = True) -> None:\n",
    "        super(Linear, self).__init__()\n",
    "        self.in_features = in_features\n",
    "        self.out_features = out_features\n",
    "        self.weight = Parameter(torch.Tensor(out_features, in_features))\n",
    "        if bias:\n",
    "            self.bias = Parameter(torch.Tensor(out_features))\n",
    "        else:\n",
    "            self.register_parameter('bias', None)\n",
    "        self.reset_parameters()\n",
    "\n",
    "```"
   ]
  },
  {
   "cell_type": "markdown",
   "metadata": {},
   "source": [
    "<img align=\"right\" style=\"padding-right:30px\" src=\"https://t3.daumcdn.net/thumb/R720x0.fpng/?fname=http://t1.daumcdn.net/brunch/service/user/bhYD/image/E6vqyn2Rur0aVqdXSBWkYERzI7Y.png\">\n",
    "\n",
    "#### nn.MSELoss()\n",
    "\n",
    "* 평균 제곱 오차\n",
    "\n",
    "<img align=\"middle\" style=\"padding-right:30px\" src=\"https://blog.kakaocdn.net/dn/bOjubP/btqGdzPuz5F/BOIrid8N4irE7w82WSaoy0/img.png\" width=25%>\n",
    "\n",
    "* RMSE (Root Mean Squared Error)\n",
    "* MAE (Mean Absolute Error)"
   ]
  },
  {
   "cell_type": "markdown",
   "metadata": {},
   "source": [
    "<img align=\"right\" src=\"https://img1.daumcdn.net/thumb/R720x0.q80/?scode=mtistory2&fname=http%3A%2F%2Fcfile3.uf.tistory.com%2Fimage%2F996A6C395D0E18BB21AF72\">\n",
    "\n",
    "#### torch.optim.SGD()\n",
    "\n",
    "* 확률적 경사 하강법\n",
    "* 일부 데이터만을 사용 -> 높은 속도"
   ]
  },
  {
   "cell_type": "markdown",
   "metadata": {},
   "source": [
    "<img align=\"middle\" src=\"https://shashank-ojha.github.io/ParallelGradientDescent/non-convex.png\" width=50%>"
   ]
  }
 ],
 "metadata": {
  "kernelspec": {
   "display_name": "dvfx",
   "language": "python",
   "name": "dvfx"
  },
  "language_info": {
   "codemirror_mode": {
    "name": "ipython",
    "version": 3
   },
   "file_extension": ".py",
   "mimetype": "text/x-python",
   "name": "python",
   "nbconvert_exporter": "python",
   "pygments_lexer": "ipython3",
   "version": "3.6.5"
  }
 },
 "nbformat": 4,
 "nbformat_minor": 4
}
