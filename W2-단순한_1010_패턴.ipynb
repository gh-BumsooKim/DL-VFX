{
 "cells": [
  {
   "cell_type": "markdown",
   "metadata": {},
   "source": [
    "# 6장 단순한 1010 패턴 - 생성기 결과 확인하기 (p124)"
   ]
  },
  {
   "cell_type": "markdown",
   "metadata": {},
   "source": [
    "### 중앙대학교 첨단영상대학원 영상학과 - 딥러닝 시각효과"
   ]
  },
  {
   "cell_type": "code",
   "execution_count": 1,
   "metadata": {},
   "outputs": [],
   "source": [
    "import torch\n",
    "import torch.nn as nn"
   ]
  },
  {
   "cell_type": "code",
   "execution_count": 2,
   "metadata": {},
   "outputs": [],
   "source": [
    "class Generator(nn.Module):\n",
    "    def __init__(self):\n",
    "        super().__init__()\n",
    "        \n",
    "        self.model = nn.Sequential(\n",
    "        nn.Linear(1, 3),\n",
    "        nn.Sigmoid(),\n",
    "        nn.Linear(3, 4),\n",
    "        nn.Sigmoid()\n",
    "        )\n",
    "        \n",
    "        self.optimizer = torch.optim.SGD(self.parameters(), lr=0.01)\n",
    "        \n",
    "        self.counter = 0;\n",
    "        self.progress = []\n",
    "        \n",
    "    def forward(self, inputs):\n",
    "        return self.model(inputs)\n",
    "        "
   ]
  },
  {
   "cell_type": "code",
   "execution_count": 3,
   "metadata": {},
   "outputs": [],
   "source": [
    "G = Generator()"
   ]
  },
  {
   "cell_type": "code",
   "execution_count": 4,
   "metadata": {},
   "outputs": [
    {
     "data": {
      "text/plain": [
       "tensor([0.6272, 0.3750, 0.5556, 0.3042], grad_fn=<SigmoidBackward>)"
      ]
     },
     "execution_count": 4,
     "metadata": {},
     "output_type": "execute_result"
    }
   ],
   "source": [
    "G.forward(torch.FloatTensor([0.5]))"
   ]
  },
  {
   "cell_type": "code",
   "execution_count": 5,
   "metadata": {},
   "outputs": [],
   "source": [
    "class Generator(nn.Module):\n",
    "    def __init__(self):\n",
    "        super().__init__()\n",
    "        \n",
    "        self.model = nn.Functional(\n",
    "        nn.Linear(1, 3),\n",
    "        nn.Sigmoid(),\n",
    "        nn.Linear(3, 4),\n",
    "        nn.Sigmoid()\n",
    "        )\n",
    "        \n",
    "        self.optimizer = torch.optim.SGD(self.parameters(), lr=0.01)\n",
    "        \n",
    "        self.counter = 0;\n",
    "        self.progress = []\n",
    "        \n",
    "    def forward(self, inputs):\n",
    "        return self.model(inputs)"
   ]
  },
  {
   "cell_type": "code",
   "execution_count": 6,
   "metadata": {},
   "outputs": [
    {
     "name": "stdout",
     "output_type": "stream",
     "text": [
      "tensor([ 4.4872, -0.2266,  0.2303], grad_fn=<AddBackward0>)\n"
     ]
    }
   ],
   "source": [
    "model = nn.Linear(1,3)(torch.FloatTensor([5]))\n",
    "print(model)"
   ]
  },
  {
   "cell_type": "code",
   "execution_count": 7,
   "metadata": {},
   "outputs": [
    {
     "name": "stdout",
     "output_type": "stream",
     "text": [
      "tensor([0.9889, 0.4436, 0.5573], grad_fn=<SigmoidBackward>)\n"
     ]
    }
   ],
   "source": [
    "model = nn.Sigmoid()(model)\n",
    "print(model)"
   ]
  },
  {
   "cell_type": "code",
   "execution_count": 8,
   "metadata": {},
   "outputs": [
    {
     "name": "stdout",
     "output_type": "stream",
     "text": [
      "tensor([-0.3957, -0.5087,  0.0752,  0.5863], grad_fn=<AddBackward0>)\n"
     ]
    }
   ],
   "source": [
    "model = nn.Linear(3,4)(model)\n",
    "print(model)"
   ]
  },
  {
   "cell_type": "code",
   "execution_count": 9,
   "metadata": {},
   "outputs": [
    {
     "name": "stdout",
     "output_type": "stream",
     "text": [
      "tensor([0.4023, 0.3755, 0.5188, 0.6425], grad_fn=<SigmoidBackward>)\n"
     ]
    }
   ],
   "source": [
    "model = nn.Sigmoid()(model)\n",
    "print(model)"
   ]
  }
 ],
 "metadata": {
  "kernelspec": {
   "display_name": "dvfx",
   "language": "python",
   "name": "dvfx"
  },
  "language_info": {
   "codemirror_mode": {
    "name": "ipython",
    "version": 3
   },
   "file_extension": ".py",
   "mimetype": "text/x-python",
   "name": "python",
   "nbconvert_exporter": "python",
   "pygments_lexer": "ipython3",
   "version": "3.6.5"
  }
 },
 "nbformat": 4,
 "nbformat_minor": 4
}
